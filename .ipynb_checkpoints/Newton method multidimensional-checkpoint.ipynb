{
 "cells": [
  {
   "cell_type": "code",
   "execution_count": 1,
   "metadata": {
    "collapsed": true
   },
   "outputs": [],
   "source": [
    "import numpy as np\n",
    "from copy import deepcopy"
   ]
  },
  {
   "cell_type": "code",
   "execution_count": 11,
   "metadata": {
    "collapsed": true
   },
   "outputs": [],
   "source": [
    "#My functions:\n",
    "f1 = lambda x, y: x**2 + y**2 - 1\n",
    "f2 = lambda x, y: x + y - 1\n",
    "fs = [f1, f2]\n",
    "\n",
    "df1x = lambda x, y: 3*x\n",
    "df2x = lambda x, y: 1\n",
    "df1y = lambda x, y: 2*y\n",
    "df2y = lambda x, y: 1\n",
    "\n",
    "dfxs = [df1x, df2x]\n",
    "dfys = [df1y, df2y]\n",
    "dfs = [dfxs, dfys]"
   ]
  },
  {
   "cell_type": "code",
   "execution_count": 3,
   "metadata": {
    "collapsed": true
   },
   "outputs": [],
   "source": [
    "#Helper function for calculate f(x):\n",
    "def func(fs, x):\n",
    "    resp = deepcopy(x)\n",
    "    for i in range(len(x)):\n",
    "        resp[i] = fs[i](*x)\n",
    "    return np.array(resp)"
   ]
  },
  {
   "cell_type": "code",
   "execution_count": 4,
   "metadata": {
    "collapsed": false
   },
   "outputs": [],
   "source": [
    "def jacobian(dfs, x):\n",
    "    D = len(x)\n",
    "    J = np.zeros((D,D))\n",
    "    for i in range(D):\n",
    "        for j in range(D):\n",
    "            J[i,j] = dfs[i][j](*x)\n",
    "    return J.T"
   ]
  },
  {
   "cell_type": "code",
   "execution_count": 16,
   "metadata": {
    "collapsed": false
   },
   "outputs": [],
   "source": [
    "def newton(fs, dfs, x0, loss):\n",
    "    xt = deepcopy(x0)\n",
    "    new_loss = deepcopy(loss+30)\n",
    "    maxi = 300 \n",
    "    while new_loss > loss:\n",
    "        J = jacobian(dfs, x0)\n",
    "        fx = func(fs, x0)\n",
    "        y = np.linalg.solve(J, -fx)\n",
    "        new_loss = np.linalg.norm(y)\n",
    "        xt = y + x0\n",
    "        x0 = xt\n",
    "        print(new_loss)\n",
    "        maxi -= 1\n",
    "        if maxi == 0:\n",
    "            break\n",
    "    return xt"
   ]
  },
  {
   "cell_type": "code",
   "execution_count": 6,
   "metadata": {
    "collapsed": true
   },
   "outputs": [],
   "source": [
    "x0 = [100,100]\n",
    "loss = 0.0001"
   ]
  },
  {
   "cell_type": "code",
   "execution_count": 12,
   "metadata": {
    "collapsed": false,
    "scrolled": true
   },
   "outputs": [
    {
     "name": "stdout",
     "output_type": "stream",
     "text": [
      "443.649524062\n",
      "168.240046052\n",
      "100.943723851\n",
      "60.5657286199\n",
      "36.3385960512\n",
      "21.8017604995\n",
      "13.0787410079\n",
      "7.84342307068\n",
      "4.69979010513\n",
      "2.80973505981\n",
      "1.66980281356\n",
      "0.977590580192\n",
      "0.552674460296\n",
      "0.290938499806\n",
      "0.136301876179\n",
      "0.0556675802824\n",
      "0.0204077292296\n",
      "0.00705971655562\n",
      "0.00238437504606\n",
      "0.000798357788772\n",
      "0.00026651960486\n",
      "8.88845049653e-05\n"
     ]
    }
   ],
   "source": [
    "xt = newton(fs, dfs, x0, loss)"
   ]
  },
  {
   "cell_type": "code",
   "execution_count": 14,
   "metadata": {
    "collapsed": false
   },
   "outputs": [
    {
     "data": {
      "text/plain": [
       "array([-0.99999996, -0.99981142])"
      ]
     },
     "execution_count": 14,
     "metadata": {},
     "output_type": "execute_result"
    }
   ],
   "source": [
    "func(fs, xt)"
   ]
  },
  {
   "cell_type": "code",
   "execution_count": 15,
   "metadata": {
    "collapsed": false
   },
   "outputs": [
    {
     "data": {
      "text/plain": [
       "array([  1.88582137e-04,  -1.11022302e-16])"
      ]
     },
     "execution_count": 15,
     "metadata": {},
     "output_type": "execute_result"
    }
   ],
   "source": [
    "x"
   ]
  }
 ],
 "metadata": {
  "anaconda-cloud": {},
  "kernelspec": {
   "display_name": "Python [conda env:py3k]",
   "language": "python",
   "name": "conda-env-py3k-py"
  },
  "language_info": {
   "codemirror_mode": {
    "name": "ipython",
    "version": 3
   },
   "file_extension": ".py",
   "mimetype": "text/x-python",
   "name": "python",
   "nbconvert_exporter": "python",
   "pygments_lexer": "ipython3",
   "version": "3.6.1"
  }
 },
 "nbformat": 4,
 "nbformat_minor": 1
}
