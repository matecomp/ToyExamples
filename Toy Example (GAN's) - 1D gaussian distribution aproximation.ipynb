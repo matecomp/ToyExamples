{
 "cells": [
  {
   "cell_type": "code",
   "execution_count": 1,
   "metadata": {
    "collapsed": true
   },
   "outputs": [],
   "source": [
    "%matplotlib inline\n",
    "\n",
    "import numpy as np\n",
    "import tensorflow as tf\n",
    "import matplotlib.pyplot as plt"
   ]
  },
  {
   "cell_type": "markdown",
   "metadata": {},
   "source": [
    "## 1º Step:\n",
    "#### Get the dataset, in this case is a 1D gaussian distribution with mu = 0.5 and sigma = 0.5:"
   ]
  },
  {
   "cell_type": "code",
   "execution_count": 2,
   "metadata": {
    "collapsed": true
   },
   "outputs": [],
   "source": [
    "class DataDistribution(object):\n",
    "    def __init__(self):\n",
    "        self.mu = 4\n",
    "        self.sigma = 0.5\n",
    "\n",
    "    def sample(self, N):\n",
    "        samples = np.random.normal(self.mu, self.sigma, N)\n",
    "        samples.sort()\n",
    "        return samples"
   ]
  },
  {
   "cell_type": "code",
   "execution_count": 3,
   "metadata": {
    "collapsed": false
   },
   "outputs": [
    {
     "data": {
      "image/png": "[encoded data removed]",
      "text/plain": [
       "<matplotlib.figure.Figure at 0x7f5240818810>"
      ]
     },
     "metadata": {},
     "output_type": "display_data"
    }
   ],
   "source": [
    "data = DataDistribution()\n",
    "x = data.sample(100000)\n",
    "plt.hist(x,bins=100,range=(-7,7),facecolor=\"r\", histtype = 'step')\n",
    "plt.title('Normal Distribution')\n",
    "plt.show()"
   ]
  },
  {
   "cell_type": "markdown",
   "metadata": {},
   "source": [
    "#### Generate G inputs ( z )"
   ]
  },
  {
   "cell_type": "code",
   "execution_count": 4,
   "metadata": {
    "collapsed": true
   },
   "outputs": [],
   "source": [
    "class GeneratorDistribution(object):\n",
    "    def __init__(self, range):\n",
    "        self.range = range\n",
    "\n",
    "    def sample(self, N):\n",
    "        return np.linspace(-self.range, self.range, N) + \\\n",
    "            np.random.random(N) * 0.01"
   ]
  },
  {
   "cell_type": "code",
   "execution_count": 5,
   "metadata": {
    "collapsed": false
   },
   "outputs": [
    {
     "data": {
      "image/png": "[encoded data removed]",
      "text/plain": [
       "<matplotlib.figure.Figure at 0x7f5264ad2790>"
      ]
     },
     "metadata": {},
     "output_type": "display_data"
    }
   ],
   "source": [
    "gen = GeneratorDistribution(1)\n",
    "z = gen.sample(100000)\n",
    "plt.hist(z,bins=100,range=(-7,7),facecolor=\"r\", histtype = 'step')\n",
    "plt.title('z values')\n",
    "plt.show()"
   ]
  },
  {
   "cell_type": "markdown",
   "metadata": {},
   "source": [
    "Note that z is one value between -1 and 1, this input is a random vector for G that will try generate a new distribution. I hope this new distribution will be approximately a normal distribution with mu=4 and sigma=0.5"
   ]
  },
  {
   "cell_type": "markdown",
   "metadata": {},
   "source": [
    "## 2º Step: Define the models"
   ]
  },
  {
   "cell_type": "markdown",
   "metadata": {},
   "source": [
    "Linear creates a new fully connected layer"
   ]
  },
  {
   "cell_type": "code",
   "execution_count": 6,
   "metadata": {
    "collapsed": true
   },
   "outputs": [],
   "source": [
    "def linear(inputs, output_dim, scope=None, stddev=1.0):\n",
    "    norm = tf.random_normal_initializer(stddev=stddev)\n",
    "    const = tf.constant_initializer(0.0)\n",
    "    with tf.variable_scope(scope or 'linear'):\n",
    "        w = tf.get_variable('w', [inputs.get_shape()[1], output_dim], initializer=norm)\n",
    "        b = tf.get_variable('b', [output_dim], initializer=const)\n",
    "        return tf.matmul(inputs, w) + b"
   ]
  },
  {
   "cell_type": "markdown",
   "metadata": {},
   "source": [
    "The generator is a linear transformation passed through a nonlinearity (a softplus function), followed by another linear transformation."
   ]
  },
  {
   "cell_type": "code",
   "execution_count": 7,
   "metadata": {
    "collapsed": true
   },
   "outputs": [],
   "source": [
    "def generator(inputs, hidden_size):\n",
    "    h0 = tf.nn.softplus(linear(inputs, hidden_size, 'g0'))\n",
    "    h1 = linear(h0, 1, 'g1')\n",
    "    return h1"
   ]
  },
  {
   "cell_type": "markdown",
   "metadata": {},
   "source": [
    "In this case we found that it was important to make sure that the discriminator is more powerful than the generator, as otherwise it did not have sufficient capacity to learn to be able to distinguish accurately between generated and real samples. So we made it a deeper neural network, with a larger number of dimensions. It uses tanh nonlinearities in all layers except the final one, which is a sigmoid (the output of which we can interpret as a probability)."
   ]
  },
  {
   "cell_type": "code",
   "execution_count": 8,
   "metadata": {
    "collapsed": true
   },
   "outputs": [],
   "source": [
    "def discriminator(inputs, hidden_size):\n",
    "    h0 = tf.tanh(linear(inputs, hidden_size * 2, 'd0'))\n",
    "    h1 = tf.tanh(linear(h0, hidden_size * 2, 'd1'))\n",
    "    h2 = tf.tanh(linear(h1, hidden_size * 2, 'd2'))\n",
    "    h3 = tf.sigmoid(linear(h2, 1, 'd3'))\n",
    "    return h3"
   ]
  },
  {
   "cell_type": "markdown",
   "metadata": {},
   "source": [
    "## 3º Step: Build graph"
   ]
  },
  {
   "cell_type": "markdown",
   "metadata": {},
   "source": [
    "#### Define the graph connections"
   ]
  },
  {
   "cell_type": "code",
   "execution_count": 9,
   "metadata": {
    "collapsed": false
   },
   "outputs": [],
   "source": [
    "hidden_size = 20\n",
    "batch_size = 300\n",
    "\n",
    "with tf.variable_scope('G'):\n",
    "    z = tf.placeholder(tf.float32, shape=(None , 1))\n",
    "    G = generator(z, hidden_size)\n",
    "\n",
    "with tf.variable_scope('D') as scope:\n",
    "    x = tf.placeholder(tf.float32, shape=(None , 1))\n",
    "    D1 = discriminator(x, hidden_size)\n",
    "    scope.reuse_variables()\n",
    "    D2 = discriminator(G, hidden_size)"
   ]
  },
  {
   "cell_type": "markdown",
   "metadata": {},
   "source": [
    "#### Define the loss function"
   ]
  },
  {
   "cell_type": "code",
   "execution_count": 10,
   "metadata": {
    "collapsed": true
   },
   "outputs": [],
   "source": [
    "loss_d = tf.reduce_mean(-tf.log(D1) - tf.log(1 - D2))\n",
    "loss_g = tf.reduce_mean(-tf.log(D2))"
   ]
  },
  {
   "cell_type": "markdown",
   "metadata": {},
   "source": [
    "#### Define the optimizer method"
   ]
  },
  {
   "cell_type": "code",
   "execution_count": 11,
   "metadata": {
    "collapsed": true
   },
   "outputs": [],
   "source": [
    "def optimizer(loss, var_list):\n",
    "    initial_learning_rate = 0.005\n",
    "    decay = 0.95\n",
    "    num_decay_steps = 150\n",
    "    batch = tf.Variable(0)\n",
    "    learning_rate = tf.train.exponential_decay(\n",
    "        initial_learning_rate,\n",
    "        batch,\n",
    "        num_decay_steps,\n",
    "        decay,\n",
    "        staircase=True\n",
    "    )\n",
    "    optimizer = tf.train.GradientDescentOptimizer(learning_rate).minimize(\n",
    "        loss,\n",
    "        global_step=batch,\n",
    "        var_list=var_list\n",
    "    )\n",
    "    \n",
    "    return optimizer"
   ]
  },
  {
   "cell_type": "markdown",
   "metadata": {},
   "source": [
    "#### Define the trainable variables"
   ]
  },
  {
   "cell_type": "code",
   "execution_count": 12,
   "metadata": {
    "collapsed": true
   },
   "outputs": [],
   "source": [
    "vars = tf.trainable_variables()\n",
    "d_params = [v for v in vars if v.name.startswith('D/')]\n",
    "g_params = [v for v in vars if v.name.startswith('G/')]"
   ]
  },
  {
   "cell_type": "markdown",
   "metadata": {},
   "source": [
    "#### Define the last conection on graph (optimizers)"
   ]
  },
  {
   "cell_type": "code",
   "execution_count": 13,
   "metadata": {
    "collapsed": false
   },
   "outputs": [],
   "source": [
    "opt_d = optimizer(loss_d, d_params)\n",
    "opt_g = optimizer(loss_g, g_params)"
   ]
  },
  {
   "cell_type": "markdown",
   "metadata": {},
   "source": [
    "## 4º Step: Train the model"
   ]
  },
  {
   "cell_type": "code",
   "execution_count": 28,
   "metadata": {
    "collapsed": false
   },
   "outputs": [
    {
     "name": "stdout",
     "output_type": "stream",
     "text": [
      "At step 0\n",
      "Discriminator loss: 1.65998351574\n",
      "Generator loss: 0.995924293995\n",
      "\n",
      "\n",
      "At step 400\n",
      "Discriminator loss: 1.28299534321\n",
      "Generator loss: 0.767312526703\n",
      "\n",
      "\n",
      "At step 800\n",
      "Discriminator loss: 1.26817929745\n",
      "Generator loss: 0.782867133617\n",
      "\n",
      "\n",
      "At step 1200\n",
      "Discriminator loss: 1.26048243046\n",
      "Generator loss: 0.869822978973\n",
      "\n",
      "\n",
      "Using model\n"
     ]
    },
    {
     "data": {
      "image/png": "[encoded data removed]",
      "text/plain": [
       "<matplotlib.figure.Figure at 0x7f523e476d50>"
      ]
     },
     "metadata": {},
     "output_type": "display_data"
    }
   ],
   "source": [
    "num_steps = 1200\n",
    "\n",
    "init_op = tf.global_variables_initializer()\n",
    "\n",
    "with tf.Session() as session:\n",
    "    session.run(init_op)\n",
    "\n",
    "    for step in range(num_steps+1):\n",
    "        # update discriminator\n",
    "        x_ = data.sample(batch_size).astype(np.float32)\n",
    "        x_ = np.reshape(x_, (batch_size, 1))\n",
    "\n",
    "        z_ = gen.sample(batch_size).astype(np.float32)\n",
    "        z_ = np.reshape(z_, (batch_size, 1))\n",
    "\n",
    "        loss_d_val, opt_d_val = session.run([loss_d, opt_d], feed_dict={z: z_, x: x_})\n",
    "\n",
    "        # update generator\n",
    "        z_ = gen.sample(batch_size).astype(np.float32)\n",
    "        z_ = np.reshape(z_, (batch_size, 1))\n",
    "        loss_g_val, opt_g_val = session.run([loss_g, opt_g], feed_dict={z: z_})\n",
    "\n",
    "        if step%400 == 0:\n",
    "            print(\"At step {0}\".format(step))\n",
    "            print(\"Discriminator loss: {0}\".format(loss_d_val))\n",
    "            print(\"Generator loss: {0}\".format(loss_g_val))\n",
    "            print(\"\\n\")\n",
    "    \n",
    "    print('Using model')\n",
    "    z_ = gen.sample(1000).astype(np.float32)\n",
    "    z_ = np.reshape(z_, (1000, 1))\n",
    "    generated = session.run(G, feed_dict={z: z_})\n",
    "    plt.hist(generated,bins=100,range=(-7,7),facecolor=\"r\", histtype = 'step')\n",
    "    plt.title('Generated values')\n",
    "    plt.show()"
   ]
  },
  {
   "cell_type": "markdown",
   "metadata": {},
   "source": [
    "This makes sense intuitively. The discriminator is looking at individual samples from the real data and from our generator. If the generator just produces the mean value of the real data in this simple example, then it is going to be quite likely to fool the discriminator."
   ]
  }
 ],
 "metadata": {
  "anaconda-cloud": {},
  "kernelspec": {
   "display_name": "Python [default]",
   "language": "python",
   "name": "python2"
  },
  "language_info": {
   "codemirror_mode": {
    "name": "ipython",
    "version": 2
   },
   "file_extension": ".py",
   "mimetype": "text/x-python",
   "name": "python",
   "nbconvert_exporter": "python",
   "pygments_lexer": "ipython2",
   "version": "2.7.12"
  }
 },
 "nbformat": 4,
 "nbformat_minor": 1
}
