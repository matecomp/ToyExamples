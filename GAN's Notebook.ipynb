{
 "cells": [
  {
   "cell_type": "code",
   "execution_count": 18,
   "metadata": {
    "collapsed": true
   },
   "outputs": [],
   "source": [
    "%matplotlib inline\n",
    "\n",
    "import tensorflow as tf\n",
    "import numpy as np\n",
    "import matplotlib.pyplot as plt\n",
    "\n",
    "from tensorflow.python.framework import ops\n",
    "\n",
    "image_summary = tf.summary.image\n",
    "scalar_summary = tf.summary.scalar\n",
    "histogram_summary = tf.summary.histogram\n",
    "merge_summary = tf.summary.merge\n",
    "SummaryWriter = tf.summary.FileWriter"
   ]
  },
  {
   "cell_type": "markdown",
   "metadata": {},
   "source": [
    "# Helper functions:\n",
    "1. Linear (Creates a fully connected layer)\n",
    "2. Conv2D (Creates a convolution layer)\n",
    "3. Deconv2D (Creates a deconvolution layer)"
   ]
  },
  {
   "cell_type": "markdown",
   "metadata": {},
   "source": [
    "## Linear args:\n",
    "    \n",
    "    input_: tensor to compose. Shape: [N, M]\n",
    "    output_size: number of output neurons\n",
    "    scope: name scope\n",
    "    stddev: standard deviation of gaussian distribution to use for random weight initialization\n",
    "    name: name scope\n",
    "    with_w: whether to also return parameter variables\n",
    "    \n",
    "__N : Number of samples.__\n",
    "\n",
    "__M : Number of features on input.__"
   ]
  },
  {
   "cell_type": "code",
   "execution_count": 19,
   "metadata": {
    "collapsed": true
   },
   "outputs": [],
   "source": [
    "def linear(input_, output_size, scope=None, stddev=0.02, bias_start=0.0, with_w=False):\n",
    "\n",
    "    shape = input_.get_shape().as_list()\n",
    "    \n",
    "    with tf.variable_scope(scope or \"Linear\"):\n",
    "        #If Matrix does not exits on scope, create a new variable\n",
    "        matrix = tf.get_variable(\"Matrix\", [shape[1], output_size], tf.float32,\n",
    "                                 tf.random_normal_initializer(stddev=stddev))\n",
    "        #If bias does not exits on scope, create a new variable\n",
    "        bias = tf.get_variable(\"bias\", [output_size],\n",
    "            initializer=tf.constant_initializer(bias_start))\n",
    "        #Return tensor with layer result and their weigths and bias\n",
    "        if with_w:\n",
    "            return tf.matmul(input_, matrix) + bias, matrix, bias\n",
    "        else:\n",
    "            return tf.matmul(input_, matrix) + bias"
   ]
  },
  {
   "cell_type": "markdown",
   "metadata": {},
   "source": [
    "## Conv2D args:\n",
    "\n",
    "    input_: tensor to compose. Shape: [N, H, W, C]\n",
    "    output_dim: number of output features maps (activation)\n",
    "    k_h: kernel height\n",
    "    k_w: kernel width\n",
    "    d_h: horizontal stride\n",
    "    d_w: vertical stride\n",
    "    stddev: standard deviation of gaussian distribution to use for random weight initialization\n",
    "    name: name scope\n",
    "\n",
    "__N: Number of samples.__\n",
    "\n",
    "__H W C : Number of features on input (Height, Width, Channel).__"
   ]
  },
  {
   "cell_type": "code",
   "execution_count": 20,
   "metadata": {
    "collapsed": true
   },
   "outputs": [],
   "source": [
    "def conv2d(input_, output_dim, k_h=5, k_w=5, d_h=2, d_w=2, stddev=0.02, name=\"conv2d\"):\n",
    "\n",
    "    with tf.variable_scope(name):\n",
    "        #Depth of filter is equal to input depth and output_dim gives the depth of next layer\n",
    "        w = tf.get_variable('w', [k_h, k_w, input_.get_shape()[-1], output_dim],\n",
    "                            initializer=tf.truncated_normal_initializer(stddev=stddev))\n",
    "        conv = tf.nn.conv2d(input_, w, strides=[1, d_h, d_w, 1], padding='SAME')\n",
    "\n",
    "        biases = tf.get_variable('biases', [output_dim], initializer=tf.constant_initializer(0.0))\n",
    "        conv = tf.nn.bias_add(conv, biases)\n",
    "\n",
    "        return conv"
   ]
  },
  {
   "cell_type": "markdown",
   "metadata": {},
   "source": [
    "## Deconv2D args:\n",
    "\n",
    "    input_: tensor to compose. Shape: [N, H, W, C]\n",
    "    output_shape: output shape\n",
    "    k_h: kernel height\n",
    "    k_w: kernel width\n",
    "    d_h: horizontal stride\n",
    "    d_w: vertical stride\n",
    "    stddev: standard deviation of gaussian distribution to use for random weight initialization\n",
    "    name: name scope\n",
    "\n",
    "__N: Number of samples.__\n",
    "\n",
    "__H W C : Number of features on input (Height, Width, Channel).__"
   ]
  },
  {
   "cell_type": "code",
   "execution_count": 21,
   "metadata": {
    "collapsed": true
   },
   "outputs": [],
   "source": [
    "def deconv2d(input_, output_shape, k_h=5, k_w=5, d_h=2, d_w=2, stddev=0.02, name=\"deconv2d\", with_w=False):\n",
    "\n",
    "    with tf.variable_scope(name):\n",
    "        # filter : [height, width, output_channels, in_channels]\n",
    "        w = tf.get_variable('w',\n",
    "                            [k_h, k_w, output_shape[-1],\n",
    "                            input_.get_shape()[-1]],\n",
    "                            initializer=tf.random_normal_initializer(stddev=stddev))\n",
    "        deconv = tf.nn.conv2d_transpose(input_, w,\n",
    "                                        output_shape=output_shape,\n",
    "                                        strides=[1, d_h, d_w, 1])\n",
    "\n",
    "        biases = tf.get_variable('biases', [output_shape[-1]], initializer=tf.constant_initializer(0.0))\n",
    "        deconv = tf.reshape(tf.nn.bias_add(deconv, biases), output_shape)\n",
    "\n",
    "        if with_w:\n",
    "            return deconv, w, biases\n",
    "        else:\n",
    "            return deconv"
   ]
  },
  {
   "cell_type": "markdown",
   "metadata": {},
   "source": [
    "## Activation function:\n",
    "### Leak Relu"
   ]
  },
  {
   "cell_type": "code",
   "execution_count": 22,
   "metadata": {
    "collapsed": true
   },
   "outputs": [],
   "source": [
    "def lrelu(x, leak=0.2, name=\"lrelu\"):\n",
    "    return tf.maximum(x, leak*x)"
   ]
  },
  {
   "cell_type": "markdown",
   "metadata": {},
   "source": [
    "## Batch Normalization:\n",
    "    This class creates an op that composes the specified tensor with a batch normalization layer.\n",
    "### Args:\n",
    "    x: tensor to compose\n",
    "    train: set to True during training and False otherwise"
   ]
  },
  {
   "cell_type": "code",
   "execution_count": 23,
   "metadata": {
    "collapsed": true
   },
   "outputs": [],
   "source": [
    "class batch_norm(object):\n",
    "\n",
    "    def __init__(self, epsilon=1e-5, momentum=0.9, name=\"batch_norm\"):\n",
    "        \n",
    "        with tf.variable_scope(name):\n",
    "            self.epsilon = epsilon\n",
    "            self.momentum = momentum\n",
    "            self.name = name\n",
    "\n",
    "    def __call__(self, x, train=True):\n",
    "        \n",
    "        return tf.contrib.layers.batch_norm(x,\n",
    "                                            decay=self.momentum,\n",
    "                                            updates_collections=None,\n",
    "                                            epsilon=self.epsilon,\n",
    "                                            scale=True,\n",
    "                                            is_training=train,\n",
    "                                            scope=self.name)"
   ]
  },
  {
   "cell_type": "markdown",
   "metadata": {
    "collapsed": true
   },
   "source": [
    "# Create model:\n",
    "\n",
    "\n"
   ]
  },
  {
   "cell_type": "markdown",
   "metadata": {},
   "source": [
    "### Config model (Default):\n",
    "    output_size: (optional) The resolution in pixels of the images. [64]    \n",
    "    z_dim: (optional) Dimension of dim for Z. [100]\n",
    "    gf_dim: (optional) Dimension of gen filters in first conv layer. [64]\n",
    "    df_dim: (optional) Dimension of discrim filters in first conv layer. [64]\n",
    "    gfc_dim: (optional) Dimension of gen units for for fully connected layer. [1024]\n",
    "    dfc_dim: (optional) Dimension of discrim units for fully connected layer. [1024]\n",
    "    c_dim: (optional) Dimension of image color. For grayscale input, set to 1. [3]\n",
    "    is_training: whether this is a training graph\n",
    "    is_inference: whether this graph is created for inference/testing\n",
    "    x: input node. Shape: [N, H, W, C]\n",
    "    y: label. Shape: [N] for scalar labels, [N, H, W, C] otherwise. (Only defined if self._is_training is True)"
   ]
  },
  {
   "cell_type": "code",
   "execution_count": 24,
   "metadata": {
    "collapsed": false
   },
   "outputs": [],
   "source": [
    "class Model():\n",
    "    \n",
    "    def __init__(self, x):\n",
    "        \n",
    "        self.x = x\n",
    "        \n",
    "        image_size = 64\n",
    "        output_size = 64\n",
    "        c_dim = 3\n",
    "        z_dim = 100\n",
    "\n",
    "        self.dcgan_init(image_size=image_size, output_size=output_size, c_dim=c_dim, z_dim=z_dim)\n",
    "\n",
    "    def inference(self):\n",
    "        \"\"\"op to use for inference\"\"\"\n",
    "\n",
    "        # scale back to [0, 255] range\n",
    "        return tf.to_int32((self.G+127) * 128)\n",
    "\n",
    "    def loss(self):\n",
    "        \"\"\"\n",
    "        Loss function\n",
    "\n",
    "        Returns either an op or a list of dicts.\n",
    "        If the returned value is an op then DIGITS will optimize against this op\n",
    "        with respect to all trainable variables.\n",
    "        If the returned value is a list then DIGITS will optimize against each\n",
    "        loss in the list with respect to the specified variables.\n",
    "        \"\"\"\n",
    "\n",
    "        # here we are returning a list because we want to alternately optimize the\n",
    "        # discriminator and the generator.\n",
    "\n",
    "        losses = [\n",
    "            {'loss': self.d_loss, 'vars': self.d_vars},\n",
    "            {'loss': self.g_loss, 'vars': self.g_vars}\n",
    "        ]\n",
    "        return losses"
   ]
  },
  {
   "cell_type": "code",
   "execution_count": 25,
   "metadata": {
    "collapsed": true
   },
   "outputs": [],
   "source": [
    "    def dcgan_init(self,image_size,output_size,z_dim,c_dim,gf_dim=64,df_dim=64,gfc_dim=1024,dfc_dim=1024):\n",
    "\n",
    "        self.image_size = image_size\n",
    "        self.output_size = output_size\n",
    "\n",
    "        self.z_dim = z_dim\n",
    "\n",
    "        self.gf_dim = gf_dim\n",
    "        self.df_dim = df_dim\n",
    "\n",
    "        self.gfc_dim = gfc_dim\n",
    "        self.dfc_dim = dfc_dim\n",
    "\n",
    "        self.c_dim = c_dim\n",
    "\n",
    "        self.batch_size = tf.shape(self.x)[0]\n",
    "\n",
    "        self.soft_label_margin = 0.1\n",
    "        \n",
    "        # batch normalization : deals with poor initialization helps gradient flow\n",
    "        self.d_bn1 = batch_norm(name='d_bn1')\n",
    "        self.d_bn2 = batch_norm(name='d_bn2')\n",
    "        self.d_bn3 = batch_norm(name='d_bn3')\n",
    "\n",
    "        self.g_bn0 = batch_norm(name='g_bn0')\n",
    "        self.g_bn1 = batch_norm(name='g_bn1')\n",
    "        self.g_bn2 = batch_norm(name='g_bn2')\n",
    "        self.g_bn3 = batch_norm(name='g_bn3')\n",
    "        \n",
    "        self.build_model()"
   ]
  },
  {
   "cell_type": "markdown",
   "metadata": {},
   "source": [
    "## D network:\n",
    "    returns probability that image came from dataset -> D(x)\n",
    "### args:\n",
    "    - input - [N, 64, 64, 3]\n",
    "    - conv layer with 64 5x5 kernels and 2x2 stride - [N, 32, 32, 64]\n",
    "    - leaky relu - [N, 32, 32, 64]\n",
    "    - conv layer with 128 5x5 kernels and 2x2 stride - [N, 16, 16, 32]\n",
    "    - batch norm - [N, 16, 16, 32]\n",
    "    - leaky relu - [N, 16, 16, 32]\n",
    "    - conv layer with 256 5x5 kernels and 2x2 stride - [N, 8, 8, 256]\n",
    "    - batch norm - [N, 8, 8, 256]\n",
    "    - leaky relu - [N, 8, 8, 256]\n",
    "    - conv layer with 256 5x5 kernels and 2x2 stride - [N, 4, 4, 512]\n",
    "    - batch norm - [N, 4, 4, 512]\n",
    "    - leaky relu - [N, 4, 4, 512]\n",
    "    - flatten - [N, 8192]\n",
    "    - linear layer with 1 output neurons - [N, 1]\n",
    "    - sigmoid - [N,1]"
   ]
  },
  {
   "cell_type": "code",
   "execution_count": 26,
   "metadata": {
    "collapsed": true
   },
   "outputs": [],
   "source": [
    "    #Make foward on a batch of images\n",
    "    def discriminator(self, image, y=None, reuse=False):\n",
    "\n",
    "        #Get N value\n",
    "        batch_size = image.get_shape().as_list()[0]\n",
    "\n",
    "        with tf.variable_scope(\"discriminator\") as scope:\n",
    "            if reuse:\n",
    "                scope.reuse_variables()\n",
    "\n",
    "            #0º layer is a conv layer 64 features maps\n",
    "            h0 = lrelu(conv2d(image, self.df_dim, name='d_h0_conv'))\n",
    "            \n",
    "            #1º layer is a conv layer 128 features maps\n",
    "            h1 = lrelu(self.d_bn1(conv2d(h0, self.df_dim * 2, name='d_h1_conv'), train=self.is_training))\n",
    "            \n",
    "            #2º layer is a conv layer 256 features maps\n",
    "            h2 = lrelu(self.d_bn2(conv2d(h1, self.df_dim * 4, name='d_h2_conv'), train=self.is_training))\n",
    "            \n",
    "            #3º layer is a conv layer 512 features maps\n",
    "            h3 = lrelu(self.d_bn3(conv2d(h2, self.df_dim * 8, name='d_h3_conv'), train=self.is_training))\n",
    "            \n",
    "            #Calculate size for flatten 2D layer (64/16)^2 = 4^2 = 16, 16*64*8 = 8192\n",
    "            h3_size = ((self.output_size // 16) ** 2) * self.df_dim * 8\n",
    "            \n",
    "            #4º layer is a flatten(512@4x4 to 8192 neurows) Fully connected a neuron that will be D(x) value\n",
    "            h4 = linear(tf.reshape(h3, [self.batch_size, h3_size]), 1, 'd_h4_lin')\n",
    "\n",
    "            return tf.nn.sigmoid(h4), h4"
   ]
  },
  {
   "cell_type": "markdown",
   "metadata": {},
   "source": [
    "## G foward:\n",
    "    returns generated image -> G(z)\n",
    "### args:\n",
    "    - input - [N, 100]\n",
    "    - linear layer with 8192 output neurons - [N, 8192]\n",
    "    - reshape - [N, 4, 4, 512]\n",
    "    - batch norm - [N, 4, 4, 512]\n",
    "    - relu - [N, 4, 4, 512]\n",
    "    - transpose convolution with 256 filters and stride 2 - [N, 8, 8, 256]\n",
    "    - batch norm - [N, 8, 8, 256]\n",
    "    - relu - [N, 8, 8, 256]\n",
    "    - transpose convolution with 128 filters and stride 2 - [N, 16, 16, 128]\n",
    "    - batch norm - [N, 16, 16, 128]\n",
    "    - relu - [N, 16, 16, 128]\n",
    "    - transpose convolution with 64 filters and stride 2 - [N, 32, 32, 64]\n",
    "    - batch norm - [N, 32, 32, 64]\n",
    "    - relu - [N, 32, 32, 64]\n",
    "    - transpose convolution with 3 filters and stride 2 - [N, 64, 64, 3]\n",
    "    - tanh - [N, 64, 64, 3]"
   ]
  },
  {
   "cell_type": "code",
   "execution_count": 27,
   "metadata": {
    "collapsed": false
   },
   "outputs": [],
   "source": [
    "    #Make foward on a batch of z's\n",
    "    def generator(self, z, y=None):\n",
    "\n",
    "\n",
    "        with tf.variable_scope(\"generator\") as scope:\n",
    "\n",
    "            # 64 is the output size\n",
    "            s = self.output_size\n",
    "\n",
    "            # Layers sizes 32,16,8,4\n",
    "            s2, s4, s8, s16 = int(s // 2), int(s // 4), int(s // 8), int(s // 16)\n",
    "\n",
    "            #First layer is a fullyconnected layer\n",
    "            self.z_, self.h0_w, self.h0_b = linear(z, self.gf_dim * 8 * s16 * s16, 'g_h0_lin', with_w=True)\n",
    "\n",
    "            #Transform 1D layer in 2D layer because the next layer, this process is called feature maps\n",
    "            self.h0 = tf.reshape(self.z_, [-1, s16, s16, self.gf_dim * 8])\n",
    "            h0 = tf.nn.relu(self.g_bn0(self.h0, train=self.is_training))\n",
    "\n",
    "            #1º deconv(conv_transpose) layer [Samples, 8, 8, 256]\n",
    "            self.h1, self.h1_w, self.h1_b = deconv2d(h0,\n",
    "                [self.batch_size, s8, s8, self.gf_dim * 4], name='g_h1', with_w=True)\n",
    "            h1 = tf.nn.relu(self.g_bn1(self.h1, train=self.is_training))\n",
    "\n",
    "            #2º deconv(conv_transpose) layer [Samples, 16, 16, 128]\n",
    "            h2, self.h2_w, self.h2_b = deconv2d(h1,\n",
    "                [self.batch_size, s4, s4, self.gf_dim * 2], name='g_h2', with_w=True)\n",
    "            h2 = tf.nn.relu(self.g_bn2(h2, train=self.is_training))\n",
    "\n",
    "            #3º deconv(conv_transpose) layer [Samples, 32, 32, 34]\n",
    "            h3, self.h3_w, self.h3_b = deconv2d(h2,\n",
    "                [self.batch_size, s2, s2, self.gf_dim * 1], name='g_h3', with_w=True)\n",
    "            h3 = tf.nn.relu(self.g_bn3(h3, train=self.is_training))\n",
    "\n",
    "            #4º deconv(conv_transpose) layer [Samples, 64, 64, 3]\n",
    "            h4, self.h4_w, self.h4_b = deconv2d(h3,\n",
    "                [self.batch_size, s, s, self.c_dim], name='g_h4', with_w=True)\n",
    "\n",
    "            return tf.nn.tanh(h4)"
   ]
  },
  {
   "cell_type": "code",
   "execution_count": 28,
   "metadata": {
    "collapsed": true
   },
   "outputs": [],
   "source": [
    "    def build_model(self):\n",
    "\n",
    "        if not self.is_inference:\n",
    "            # create both the generator and the discriminator\n",
    "            # self.x is a batch of images - shape: [N, H, W, C]\n",
    "            # self.y is a vector of labels - shape: [N]\n",
    "\n",
    "            # sample z from a normal distribution\n",
    "            self.z = tf.random_normal(shape=[self.batch_size, self.z_dim], dtype=tf.float32, seed=None, name='z')\n",
    "\n",
    "            # scale input to [-1, +1] range\n",
    "            self.images = (tf.reshape(self.x,\n",
    "                                      shape=[self.batch_size,\n",
    "                                             self.image_size,\n",
    "                                             self.image_size,\n",
    "                                             self.c_dim],\n",
    "                                      name='x_reshaped') - 128)/ 127.\n",
    "\n",
    "            # create generator\n",
    "            self.G = self.generator(self.z)\n",
    "            # create an instance of the discriminator (real samples)\n",
    "            self.D, self.D_logits = self.discriminator(self.images, reuse=False)\n",
    "            # create another identical instance of the discriminator (fake samples)\n",
    "            # NOTE: we are re-using variables here to share weights between the two\n",
    "            # instances of the discriminator\n",
    "            self.D_, self.D_logits_ = self.discriminator(self.G, reuse=True)\n",
    "\n",
    "            # we are using the cross entropy loss for all these losses\n",
    "            # note the use of the soft label smoothing here to prevent D from getting overly confident\n",
    "            # on real samples\n",
    "            self.d_loss_real = tf.reduce_mean(tf.nn.sigmoid_cross_entropy_with_logits(self.D_logits,\n",
    "                                              tf.ones_like(self.D) - self.soft_label_margin,\n",
    "                                              name=\"loss_D_real\"))\n",
    "            self.d_loss_fake = tf.reduce_mean(tf.nn.sigmoid_cross_entropy_with_logits(self.D_logits_,\n",
    "                                              tf.zeros_like(self.D_),\n",
    "                                              name=\"loss_D_fake\"))\n",
    "            self.d_loss = (self.d_loss_real + self.d_loss_fake) / 2.\n",
    "            # the typical GAN set-up is that of a minimax game where D is trying to minimize its own error and G is trying to maximize D's error\n",
    "            # however note how we are flipping G labels here: instead of maximizing D's error, we are minimizing D's error on the 'wrong' label\n",
    "            # this trick helps produce a stronger gradient\n",
    "            self.g_loss = tf.reduce_mean(tf.nn.sigmoid_cross_entropy_with_logits(self.D_logits_,\n",
    "                                              tf.ones_like(self.D_) + self.soft_label_margin,\n",
    "                                              name=\"loss_G\"))\n",
    "\n",
    "            # debug\n",
    "            self.summaries.append(image_summary(\"G\", self.G, max_outputs=3))\n",
    "            self.summaries.append(image_summary(\"X\", self.images, max_outputs=3))\n",
    "            self.summaries.append(histogram_summary(\"G_hist\", self.G))\n",
    "            self.summaries.append(histogram_summary(\"X_hist\", self.images))\n",
    "            self.summaries.append(scalar_summary(\"d_loss_real\", self.d_loss_real))\n",
    "            self.summaries.append(scalar_summary(\"d_loss_fake\", self.d_loss_fake))\n",
    "            self.summaries.append(scalar_summary(\"g_loss\", self.g_loss))\n",
    "            self.summaries.append(scalar_summary(\"d_loss\", self.d_loss))\n",
    "\n",
    "            # all trainable variables\n",
    "            t_vars = tf.trainable_variables()\n",
    "            # G variables\n",
    "            self.g_vars = [var for var in t_vars if 'g_' in var.name]\n",
    "            # D variables\n",
    "            self.d_vars = [var for var in t_vars if 'd_' in var.name]\n",
    "\n",
    "            # Extra hook for debug: log chi-square distance between G's output histogram and the dataset's histogram\n",
    "            value_range = [0.0, 1.0]\n",
    "            nbins = 100\n",
    "            hist_g = tf.histogram_fixed_width(self.G, value_range, nbins=nbins, dtype=tf.float32) / nbins\n",
    "            hist_images = tf.histogram_fixed_width(self.images, value_range, nbins=nbins, dtype=tf.float32) / nbins\n",
    "            chi_square = tf.reduce_mean(tf.div(tf.square(hist_g - hist_images), hist_g + hist_images + 1e-5))\n",
    "            self.summaries.append(scalar_summary(\"chi_square\", chi_square))\n",
    "        else:\n",
    "            # Create only the generator\n",
    "            self.x = tf.reshape(self.x, shape=[self.batch_size, self.z_dim])\n",
    "            self.z = self.x[:, :self.z_dim]\n",
    "            self.G = self.generator(self.z)"
   ]
  },
  {
   "cell_type": "markdown",
   "metadata": {},
   "source": [
    "# Load Dataset (Toy example)\n",
    "\n",
    "##     Generate normal distribution"
   ]
  },
  {
   "cell_type": "code",
   "execution_count": 29,
   "metadata": {
    "collapsed": true
   },
   "outputs": [],
   "source": [
    "class DataDistribution(object):\n",
    "    def __init__(self):\n",
    "        self.mu = 4\n",
    "        self.sigma = 0.5\n",
    "\n",
    "    def sample(self, N):\n",
    "        samples = np.random.normal(self.mu, self.sigma, N)\n",
    "        samples.sort()\n",
    "        return samples\n",
    "\n",
    "class GeneratorDistribution(object):\n",
    "    def __init__(self, rang):\n",
    "        self.rang = rang\n",
    "\n",
    "    def sample(self, N):\n",
    "        return np.linspace(-self.rang, self.rang, N) + \\\n",
    "            np.random.random(N) * 0.01"
   ]
  },
  {
   "cell_type": "code",
   "execution_count": 30,
   "metadata": {
    "collapsed": false
   },
   "outputs": [],
   "source": [
    "data = DataDistribution()\n",
    "printer = GeneratorDistribution(100)\n",
    "x = printer.sample(100)\n",
    "y = data.sample(10000)"
   ]
  },
  {
   "cell_type": "code",
   "execution_count": 31,
   "metadata": {
    "collapsed": false
   },
   "outputs": [
    {
     "data": {
      "image/png": "[encoded data removed]",
      "text/plain": [
       "<matplotlib.figure.Figure at 0x7fa7f1270050>"
      ]
     },
     "metadata": {},
     "output_type": "display_data"
    }
   ],
   "source": [
    "plt.hist(y,50)\n",
    "plt.title('Normal distribution')\n",
    "plt.show()"
   ]
  },
  {
   "cell_type": "code",
   "execution_count": 32,
   "metadata": {
    "collapsed": false
   },
   "outputs": [
    {
     "ename": "AttributeError",
     "evalue": "Model instance has no attribute 'dcgan_init'",
     "output_type": "error",
     "traceback": [
      "\u001b[0;31m---------------------------------------------------------------------------\u001b[0m",
      "\u001b[0;31mAttributeError\u001b[0m                            Traceback (most recent call last)",
      "\u001b[0;32m<ipython-input-32-178b43c5a35e>\u001b[0m in \u001b[0;36m<module>\u001b[0;34m()\u001b[0m\n\u001b[0;32m----> 1\u001b[0;31m \u001b[0mm\u001b[0m \u001b[0;34m=\u001b[0m \u001b[0mModel\u001b[0m\u001b[0;34m(\u001b[0m\u001b[0my\u001b[0m\u001b[0;34m)\u001b[0m\u001b[0;34m\u001b[0m\u001b[0m\n\u001b[0m",
      "\u001b[0;32m<ipython-input-24-23e02565b123>\u001b[0m in \u001b[0;36m__init__\u001b[0;34m(self, x)\u001b[0m\n\u001b[1;32m     10\u001b[0m         \u001b[0mz_dim\u001b[0m \u001b[0;34m=\u001b[0m \u001b[0;36m100\u001b[0m\u001b[0;34m\u001b[0m\u001b[0m\n\u001b[1;32m     11\u001b[0m \u001b[0;34m\u001b[0m\u001b[0m\n\u001b[0;32m---> 12\u001b[0;31m         \u001b[0mself\u001b[0m\u001b[0;34m.\u001b[0m\u001b[0mdcgan_init\u001b[0m\u001b[0;34m(\u001b[0m\u001b[0mimage_size\u001b[0m\u001b[0;34m=\u001b[0m\u001b[0mimage_size\u001b[0m\u001b[0;34m,\u001b[0m \u001b[0moutput_size\u001b[0m\u001b[0;34m=\u001b[0m\u001b[0moutput_size\u001b[0m\u001b[0;34m,\u001b[0m \u001b[0mc_dim\u001b[0m\u001b[0;34m=\u001b[0m\u001b[0mc_dim\u001b[0m\u001b[0;34m,\u001b[0m \u001b[0mz_dim\u001b[0m\u001b[0;34m=\u001b[0m\u001b[0mz_dim\u001b[0m\u001b[0;34m)\u001b[0m\u001b[0;34m\u001b[0m\u001b[0m\n\u001b[0m\u001b[1;32m     13\u001b[0m \u001b[0;34m\u001b[0m\u001b[0m\n\u001b[1;32m     14\u001b[0m     \u001b[0;32mdef\u001b[0m \u001b[0minference\u001b[0m\u001b[0;34m(\u001b[0m\u001b[0mself\u001b[0m\u001b[0;34m)\u001b[0m\u001b[0;34m:\u001b[0m\u001b[0;34m\u001b[0m\u001b[0m\n",
      "\u001b[0;31mAttributeError\u001b[0m: Model instance has no attribute 'dcgan_init'"
     ]
    }
   ],
   "source": [
    "m = Model(y)"
   ]
  }
 ],
 "metadata": {
  "anaconda-cloud": {},
  "kernelspec": {
   "display_name": "Python [conda root]",
   "language": "python",
   "name": "conda-root-py"
  },
  "language_info": {
   "codemirror_mode": {
    "name": "ipython",
    "version": 2
   },
   "file_extension": ".py",
   "mimetype": "text/x-python",
   "name": "python",
   "nbconvert_exporter": "python",
   "pygments_lexer": "ipython2",
   "version": "2.7.12"
  }
 },
 "nbformat": 4,
 "nbformat_minor": 1
}
